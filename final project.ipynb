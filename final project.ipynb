{
 "cells": [
  {
   "cell_type": "markdown",
   "id": "f098d98c-8414-4dbe-a1fb-8db0bab8b397",
   "metadata": {},
   "source": [
    "# Final project\n"
   ]
  },
  {
   "cell_type": "markdown",
   "id": "f49df743-65de-4dc2-869c-18a0ebe8e81d",
   "metadata": {},
   "source": [
    "## Introduction\n",
    "\n",
    "The following notebook is a demonstration of the knowledge acquired about Jupyter notebook in this course."
   ]
  },
  {
   "cell_type": "markdown",
   "id": "b3ee3a0b-a8c1-4f6e-896b-5f09335c2287",
   "metadata": {},
   "source": [
    "### Data science languages\n",
    "- Python\n",
    "- R\n",
    "- SQL\n",
    "- Julia\n",
    "- Java\n",
    "- Javascript\n",
    "- Scala"
   ]
  },
  {
   "cell_type": "markdown",
   "id": "6ec16965-078b-4c10-adcf-fd7c3f46cfd4",
   "metadata": {},
   "source": [
    "#### Data science libraries\n",
    "\n",
    "- TensorFlow.\n",
    "- NumPy.\n",
    "- SciPy.\n",
    "- Pandas.\n",
    "- Matplotlib.\n",
    "- Keras.\n",
    "- SciKit-Learn.\n",
    "- PyTorch."
   ]
  },
  {
   "cell_type": "markdown",
   "id": "9ded2b9a-7150-4dae-b0a4-e6d4b90c9c19",
   "metadata": {},
   "source": [
    "#### Data science tools\n",
    "\n",
    "| Step in DS     | Tool      |\n",
    "|---|---|\n",
    "|Data management |mySQL| \n",
    "|                |PostgreSQL| \n",
    "|                | MongoDB| \n",
    "|----------------|--------------| \n",
    "| Refinery and   | Airflow | \n",
    "| cleansing      | Kubeflow | \n",
    "|                | Kafka | \n",
    "|                | Nifi | \n",
    "|----------------|--------------| \n",
    "| Data           | Jupyter | \n",
    "| visualization  | Rstudio | \n",
    "|                | Apache spark |\n",
    "|                | Spyder | \n",
    "|----------------|--------------| \n",
    "| Model          | Seldon |\n",
    "| deployment     | Mleap |\n",
    "|                | Tensorflow | \n",
    "|----------------|--------------|\n",
    "| Model          | ModelDB | \n",
    "| monitoring     | Prometheus |\n",
    "|----------------|--------------| \n",
    "| Code asset     | Git | \n",
    "| Management     | github | \n",
    "|                | gitlab |\n",
    "|----------------|--------------| \n",
    "| Data asset     | kylo | \n",
    "| management     | Atlas | \n",
    "|----------------|--------------|\n",
    "\n"
   ]
  },
  {
   "cell_type": "markdown",
   "id": "40aaa21d-20cc-4999-b320-371db9236608",
   "metadata": {},
   "source": [
    "#### Arithmetic expression examples\n",
    "-  1+1= 2\n",
    "- 10/2= 5\n",
    "- 5*5= 25\n"
   ]
  },
  {
   "cell_type": "code",
   "execution_count": null,
   "id": "3b2db460-b2e3-4f35-916f-bc8cec9aaf53",
   "metadata": {},
   "outputs": [],
   "source": [
    "### multiply and add numbers\n",
    "\n",
    "num1 = int(input(\"Enter First Number: \"))\n",
    "num2 = int(input(\"Enter Second Number: \"))\n",
    "\n",
    "print(\"Enter which operation would you like to perform?\")\n",
    "ch = input(\"Enter any of these char for specific operation +,*: \")\n",
    "\n",
    "result = 0\n",
    "if ch == '+':\n",
    "    result = num1 + num2\n",
    "elif ch == '*':\n",
    "    result = num1 * num2\n",
    "else:\n",
    "    print(\"Input character is not recognized!\")\n",
    "\n",
    "print(num1, ch , num2, \":\", result)"
   ]
  },
  {
   "cell_type": "code",
   "execution_count": 3,
   "id": "c40b5927-b1ee-4112-a3fe-1764e072604f",
   "metadata": {},
   "outputs": [
    {
     "name": "stdin",
     "output_type": "stream",
     "text": [
      "Enter minutes:  180\n"
     ]
    },
    {
     "name": "stdout",
     "output_type": "stream",
     "text": [
      "03:00\n"
     ]
    }
   ],
   "source": [
    "# convert minutes to hours\n",
    "\n",
    "minutes = int(input(\"Enter minutes: \"))\n",
    "\n",
    "print(\"%02d:%02d\" % (divmod(minutes, 60)))\n"
   ]
  },
  {
   "cell_type": "markdown",
   "id": "0b482f24-3b12-4d90-93cd-6759f0ddf269",
   "metadata": {},
   "source": [
    "### Objectives\n",
    "* [ ] Exercise 2 - Create a markdown cell with the title of the notebook. (1 pt)\n",
    "* [ ] Exercise 3 - Create a markdown cell for an introduction. (1 pt)\n",
    "* [ ] Exercise 4 - Create a markdown cell to list data science languages. (3 pts)\n",
    "* [ ] Exercise 5 - Create a markdown cell to list data science libraries. (3 pts)\n",
    "* [ ] Exercise 6 - Create a markdown cell with a table of Data Science tools. (3 pts)\n",
    "* [ ] Exercise 7 - Create a markdown cell introducing arithmetic expression examples. (1 pt)\n",
    "* [ ] Exercise 8 - Create a code cell to multiply and add numbers.(2 pts)\n",
    "* [ ] Exercise 9 - Create a code cell to convert minutes to hours. (2 pts)\n",
    "* [ ] Exercise 10 -Insert a markdown cell to list Objectives. (3 pts)\n",
    "* [ ] Exercise 11 - Create a markdown cell to indicate the Author’s name. (2 pts)\n",
    "* [ ] Exercise 12 - Share your notebook through GitHub (3 pts)\n",
    "* [ ] Exercise 13 - Take a screenshot of the first page of the notebook. (1 pt)\n",
    "\n",
    "\n",
    "\n"
   ]
  },
  {
   "cell_type": "markdown",
   "id": "a9de4847-f597-4108-8656-eb28098cf14c",
   "metadata": {},
   "source": [
    "#### Author: Joseherick Castillo"
   ]
  }
 ],
 "metadata": {
  "kernelspec": {
   "display_name": "Python",
   "language": "python",
   "name": "conda-env-python-py"
  },
  "language_info": {
   "codemirror_mode": {
    "name": "ipython",
    "version": 3
   },
   "file_extension": ".py",
   "mimetype": "text/x-python",
   "name": "python",
   "nbconvert_exporter": "python",
   "pygments_lexer": "ipython3",
   "version": "3.7.12"
  }
 },
 "nbformat": 4,
 "nbformat_minor": 5
}
